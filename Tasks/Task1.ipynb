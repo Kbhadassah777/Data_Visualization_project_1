{
 "cells": [
  {
   "cell_type": "markdown",
   "metadata": {},
   "source": [
    "# Assignment 1: Dino Fun World\n",
    "\n",
    "### Assignment Description\n",
    "\n",
    "You, in your role as a data explorer and visualizer, have been asked by the administrators of a small amusement park in your hometown to answer a few questions about their park operations. The dataset that they provided for you to perform the requested analysis includes the movement and communication data captured from the park attendees' apps during one weekend (Friday, Saturday, and Sunday).\n",
    "\n",
    "The administrators would like you to answer four relatively simple questions about the park activities on the day in question. These questions all deal with park operations and can be answered using the data provided.\n",
    "* **Question 1:** What is the most popular attraction to visit in the park?\n",
    "\n",
    "\n",
    "* **Question 2:** What ride (note that not all attractions are rides) has the second longest average visit time?\n",
    "\n",
    "\n",
    "* **Question 3:** Which Fast Food offering has the fewest visitors?\n",
    "\n",
    "\n",
    "* **Question 4:** Compute the Skyline of number of visits and visit time for the park's ride, and report the rides that appear in the Skyline. (Note: Your answer should be three points, which can be given in any order.)\n",
    "\n",
    "\n",
    "### Directions\n",
    "\n",
    "The database provided by the park administration is formatted to be readable by any SQL database library. The course staff recommends the sqlite3 library. The database contains three tables, named 'checkin', 'attractions', and 'sequences'. The database file is named 'dinofunworld.db' .\n",
    "\n",
    "The information contained in each of these tables is listed below:\n",
    "\n",
    "`checkin`:\n",
    "    - The check-in data for all visitors for the day in the park. The data includes two types of check-ins: inferred and actual checkins.\n",
    "    - Fields: visitorID, timestamp, attraction, duration, type\n",
    "\n",
    "`attraction`:\n",
    "    - The attractions in the park by their corresponding AttractionID, Name, Region, Category, and type. Regions are from the VAST Challenge map such as Coaster Alley, Tundra Land, etc. Categories include Thrill rides, Kiddie Rides, etc. Type is broken into Outdoor Coaster, Other Ride, Carousel, etc.\n",
    "    - Fields: AttractionID, Name, Region, Category, type\n",
    "    \n",
    "`sequences`:\n",
    "    - The check-in sequences of visitors. These sequences list the position of each visitor to the park every five minutes. If the visitor has not entered the part yet, the sequence has a value of 0 for that time interval. If the visitor is in the park, the sequence lists the attraction they have most recently checked in to until they check in to a new one or leave the park.\n",
    "    - Fields: visitorID, sequence\n",
    "    \n",
    "Using the provided data, answer the four questions that the administrators have asked.\n",
    "\n",
    "### Submission Directions for Assignment Deliverables\n",
    "\n",
    "This assignment will be auto-graded. We recommend that you submit this assignment. In order for your answers to be correctly registered in the system, you must place the code for your answers in the cell indicated for each question. In addition, you should submit the assignment with the output of the code in the cell's display area. The display area should contain only your answer to the question with no extraneous information, or else the answer may not be picked up correctly. \n",
    "\n",
    "Each cell that is going to be graded has a set of comment lines at the beginning of the cell. These lines are extremely important and must not be modified or removed. \n",
    "\n",
    "Please execute each cell in Jupyter Notebook before submitting.\n",
    "\n",
    "\n"
   ]
  },
  {
   "cell_type": "markdown",
   "metadata": {},
   "source": [
    "### Question 1: \n",
    "What is the most popular attraction to visit in the park?\n",
    "\n",
    "**Note:** Your output should be the name of the attraction."
   ]
  },
  {
   "cell_type": "code",
   "execution_count": 12,
   "metadata": {
    "scrolled": false
   },
   "outputs": [],
   "source": [
    "#importing sqlite to access the database through queries\n",
    "import sqlite3\n",
    "\n",
    "from datetime import timedelta\n",
    "\n",
    "import math\n",
    "#connecting to data base and setting the cursor to the database\n",
    "data = sqlite3.connect('dinofunworld.db')\n",
    "pointer = data.cursor()\n"
   ]
  },
  {
   "cell_type": "code",
   "execution_count": 13,
   "metadata": {},
   "outputs": [
    {
     "name": "stdout",
     "output_type": "stream",
     "text": [
      "Atmosfear\n"
     ]
    }
   ],
   "source": [
    "# your code here for Q1\n",
    "\n",
    "#from checkin table selecting attraction and concluding their count by putting on as ascending --> retriveing the last attraction\n",
    "pointer.execute(\"SELECT attraction, COUNT(*) as cnt FROM checkin GROUP BY attraction ORDER BY cnt asc;\")\n",
    "#saving the ID of popular attraction\n",
    "ID = pointer.fetchall()[-1][0]\n",
    "#as ID is common key between checkin and attraction -->getting the name of attraction using ID on attraction table\n",
    "pointer.execute(\"SELECT Name FROM attraction WHERE AttractionID=\"+str(ID)+\";\")\n",
    "q1_ans = pointer.fetchone()[0]\n",
    "print(q1_ans)"
   ]
  },
  {
   "cell_type": "markdown",
   "metadata": {},
   "source": [
    "### Question 2: \n",
    "\n",
    "What ride (note that not all attractions are rides) has the  longest average visit time?\n",
    "\n",
    "**Note:** Your output should be the name of the ride.\n"
   ]
  },
  {
   "cell_type": "code",
   "execution_count": 14,
   "metadata": {},
   "outputs": [
    {
     "name": "stdout",
     "output_type": "stream",
     "text": [
      "TerrorSaur\n"
     ]
    }
   ],
   "source": [
    "# your code here for Q2\n",
    "#filtering the ones with ride in the name using like operator and saving the results in list1\n",
    "pointer.execute(\"SELECT AttractionID, Name FROM attraction where LOWER(Category) LIKE '%ride%';\")\n",
    "list1 = pointer.fetchall()\n",
    "ride_time = (\"\", 0)\n",
    "for (attraction_id, name) in list1:\n",
    "    #getting duration from checkin table where attraction is same as attraction_id and saving them as list2\n",
    "    pointer.execute(\"SELECT duration FROM checkin where attraction=\"+str(attraction_id)+\";\")\n",
    "    list2 = pointer.fetchall()\n",
    "    totalduration = 0\n",
    "    i = 0\n",
    "    for d in list2:\n",
    "        try:\n",
    "            duration = d[0].split(':')\n",
    "            totalduration += (int(duration[0])*3600) + (int(duration[1])*60) +(int(duration[2]))\n",
    "            i += 1\n",
    "        except:\n",
    "            continue\n",
    "    average_duration = totalduration / i\n",
    "    if average_duration > ride_time[1]:\n",
    "        ride_time = (name, average_duration)\n",
    "print(ride_time[0])"
   ]
  },
  {
   "cell_type": "markdown",
   "metadata": {},
   "source": [
    "### Question 3:\n",
    "\n",
    "Which Fast Food offering in the park has the fewest visitors?\n",
    "\n",
    "**Note:** Your output should be the name of the fast food offering."
   ]
  },
  {
   "cell_type": "code",
   "execution_count": 15,
   "metadata": {},
   "outputs": [
    {
     "name": "stdout",
     "output_type": "stream",
     "text": [
      "Theresaur Food Stop\n"
     ]
    }
   ],
   "source": [
    "# your code here for Q3\n",
    "\n",
    "#getting attraction and count by grouping by attraction from the table where attraction has fastfood in it\n",
    "pointer.execute(\"SELECT attraction, COUNT(*) as cnt FROM checkin WHERE attraction IN (SELECT AttractionID FROM attraction where LOWER(type) LIKE '%fast food%') GROUP BY attraction ORDER by cnt asc;\")\n",
    "ID = pointer.fetchall()[0][0]\n",
    "#get attraction name using the ID\n",
    "pointer.execute(\"SELECT Name FROM attraction where AttractionID = \" + str(ID) + \";\")\n",
    "q3_ans = pointer.fetchone()[0]\n",
    "print(q3_ans)"
   ]
  },
  {
   "cell_type": "markdown",
   "metadata": {},
   "source": [
    "### Question 4:\n",
    "\n",
    "Compute the Skyline of number of visits and visit time for the park's ride and report the rides that appear in the Skyline. \n",
    "\n",
    "**Note:** Remember that in this case, higher visits is better and lower visit times are better. Your output should be formatted as a list of names of the rides in the Skyline. Your output should be three points, which can be given in any order(example output : ['Ride 1','Ride 2','Ride 3'] )\n"
   ]
  },
  {
   "cell_type": "code",
   "execution_count": 16,
   "metadata": {},
   "outputs": [
    {
     "name": "stdout",
     "output_type": "stream",
     "text": [
      "['Wrightiraptor Mountain', 'Atmosfear', 'Dykesadactyl Thrill']\n"
     ]
    }
   ],
   "source": [
    "#getting attraction and counting them as cnt from attractions where attraction id has ride -- grouping by attraction\n",
    "pointer.execute(\"SELECT attraction, COUNT(*) as c FROM checkin WHERE attraction IN (SELECT AttractionID FROM attraction where LOWER(Category) LIKE '%ride%') GROUP BY attraction;\")\n",
    "list1 = pointer.fetchall()\n",
    "visited_best = (0, 0)\n",
    "ridetime_best = (0, math.inf)\n",
    "both_best = (0, 0, math.inf)\n",
    "for (attraction_id,count) in list1:\n",
    "    #getting duration for calculation from checkin for required attractions\n",
    "    pointer.execute(\"SELECT duration FROM checkin where attraction=\"+str(attraction_id)+\";\")\n",
    "    list2 = pointer.fetchall()\n",
    "    total_duration = 0\n",
    "    i = 0\n",
    "    for d in list2:\n",
    "        try:\n",
    "            duration = d[0].split(':')\n",
    "            total_duration += (int(duration[0])*3600) + (int(duration[1])*60) +(int(duration[2]))\n",
    "            i += 1\n",
    "        except:\n",
    "            continue\n",
    "    avg_duration = total_duration / i\n",
    "    if count > visited_best[1]:\n",
    "        visited_best = (attraction_id, count)\n",
    "    if avg_duration < ridetime_best[1]:\n",
    "        ridetime_best = (attraction_id, avg_duration)\n",
    "    if count > both_best[1] and avg_duration < both_best[2]:\n",
    "        both_best = (attraction_id, count, avg_duration)\n",
    "#getting name of attractions where attraction ID are same as the ones in best visited, best ridetime and best of both\n",
    "pointer.execute(\"SELECT Name FROM attraction WHERE AttractionID=\"+str(visited_best[0])+\" OR AttractionID=\"+str(ridetime_best[0])+\" OR AttractionID=\"+str(both_best[0])+\";\")\n",
    "names = pointer.fetchall()\n",
    "name_list = [name[0] for name in names]\n",
    "print(name_list)\n"
   ]
  }
 ],
 "metadata": {
  "kernelspec": {
   "display_name": "Python 3 (ipykernel)",
   "language": "python",
   "name": "python3"
  },
  "language_info": {
   "codemirror_mode": {
    "name": "ipython",
    "version": 3
   },
   "file_extension": ".py",
   "mimetype": "text/x-python",
   "name": "python",
   "nbconvert_exporter": "python",
   "pygments_lexer": "ipython3",
   "version": "3.9.13"
  }
 },
 "nbformat": 4,
 "nbformat_minor": 2
}
